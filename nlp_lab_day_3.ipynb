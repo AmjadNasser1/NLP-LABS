{
  "cells": [
    {
      "cell_type": "markdown",
      "metadata": {
        "id": "view-in-github",
        "colab_type": "text"
      },
      "source": [
        "<a href=\"https://colab.research.google.com/github/AmjadNasser1/NLP-LABS/blob/main/nlp_lab_day_3.ipynb\" target=\"_parent\"><img src=\"https://colab.research.google.com/assets/colab-badge.svg\" alt=\"Open In Colab\"/></a>"
      ]
    },
    {
      "cell_type": "markdown",
      "metadata": {
        "id": "QhE_ve2CMku1"
      },
      "source": [
        "\n",
        "<br>\n",
        "RNN Practical — Intro to Recurrent Neural Networks<br>\n",
        "Topics: Motivation, Basics, Architectures (One-to-Many, Many-to-One, etc.), Shared Parameters<br>\n",
        "Instructions: Complete each task by filling in the \"Your answer here\" sections.<br>\n"
      ]
    },
    {
      "cell_type": "code",
      "execution_count": null,
      "metadata": {
        "id": "Eut5NBEdMku6"
      },
      "outputs": [],
      "source": [
        "import numpy as np"
      ]
    },
    {
      "cell_type": "markdown",
      "metadata": {
        "id": "mzWjX89mMku-"
      },
      "source": [
        "------------------------------<br>\n",
        "Task 1: RNN Architectures <br>\n",
        "------------------------------"
      ]
    },
    {
      "cell_type": "code",
      "execution_count": 1,
      "metadata": {
        "id": "xlDX2hiTMku-"
      },
      "outputs": [],
      "source": [
        "def task1_architectures():\n",
        "    \"\"\"\n",
        "    Identify the correct RNN architecture (One-to-One, One-to-Many, Many-to-One, Many-to-Many)\n",
        "    for the following scenarios:\n",
        "    a) Sentiment analysis of a sentence -> single label\n",
        "    b) Music generation from a single start token -> output sequence\n",
        "    c) Named entity recognition: tag each word in a sentence\n",
        "    d) Machine translation: source sentence -> target sentence\n",
        "    \"\"\"\n",
        "    # Your answer here:\n",
        "    # a) Many-to-One: Sentiment analysis of a sentence -> single label\n",
        "    # b) One-to-Many:  Music generation from a single start token -> output sequence\n",
        "    # c) Many-to-Many: Named entity recognition: tag each word in a sentence\n",
        "    # d) Many-to-Many: (encoder-decoder): Machine translation: source sentence -> target sentence"
      ]
    },
    {
      "cell_type": "markdown",
      "metadata": {
        "id": "fz1xbYovMkvA"
      },
      "source": [
        "------------------------------<br>\n",
        "Task 2: Shared Parameters <br>\n",
        "------------------------------"
      ]
    },
    {
      "cell_type": "code",
      "execution_count": 25,
      "metadata": {
        "id": "5UlHXaMJMkvB",
        "colab": {
          "base_uri": "https://localhost:8080/"
        },
        "outputId": "aa60fff3-79c3-4a92-d34f-f2d51c162b36"
      },
      "outputs": [
        {
          "output_type": "stream",
          "name": "stdout",
          "text": [
            "{'Total parameters': 24}\n"
          ]
        }
      ],
      "source": [
        "def task2_shared_parameters():\n",
        "    \"\"\"\n",
        "    1- Explain shared parameters in an RNN.\n",
        "    Compute parameter counts for an example:\n",
        "    2- input size d=4, hidden size h=3, sequence length T=10\n",
        "    \"\"\"\n",
        "    # Your answer here:\n",
        "    # 1- RNNs share parameters because they repeat the same operation at every step of the sequence:\n",
        "    # Take the current input, combine it with the previous hidden state, apply the same weight matrices, pass it through an activation function, then generate an output, this makes the model compact and effeicint\n",
        "\n",
        "#2:\n",
        "def parameter_count(input_size, hidden_size, seq_len):\n",
        "\n",
        "    W_x = hidden_size * input_size   # input to hidden weights\n",
        "    W_h = hidden_size * hidden_size  # hidden to hidden weights\n",
        "    b   = hidden_size                # bias\n",
        "\n",
        "    total = W_x + W_h + b\n",
        "\n",
        "    return {\n",
        "\n",
        "        \"Total parameters\": total,\n",
        "    }\n",
        "\n",
        "parameter =  parameter_count(4, 3, 10)\n",
        "print(parameter)"
      ]
    },
    {
      "cell_type": "markdown",
      "metadata": {
        "id": "hMyzZbkLMkvB"
      },
      "source": [
        "------------------------------<br>\n",
        "Task 3: Manual Forward Pass <br>\n",
        "------------------------------"
      ]
    },
    {
      "cell_type": "markdown",
      "source": [
        "![Screenshot 1447-04-09 at 12.23.51 PM.png](data:image/png;base64,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)"
      ],
      "metadata": {
        "id": "kIxx2TNag758"
      }
    },
    {
      "cell_type": "code",
      "execution_count": 28,
      "metadata": {
        "id": "nlcGh9oLMkvC",
        "colab": {
          "base_uri": "https://localhost:8080/"
        },
        "outputId": "1c0485ae-6802-4c71-b3d5-2a08f4f5ec7d"
      },
      "outputs": [
        {
          "output_type": "stream",
          "name": "stdout",
          "text": [
            "Hidden states: [array([ 0.46211716, -0.33637554]), array([0.53994993, 0.04027965]), array([-0.21833125,  0.19743869])]\n"
          ]
        }
      ],
      "source": [
        "import numpy as np\n",
        "\n",
        "def task3_manual_forward_pass():\n",
        "    \"\"\"\n",
        "    Compute hidden states manually for a small RNN using np.tanh.\n",
        "    Input sequence length T=3, input size=2, hidden size=2\n",
        "    \"\"\"\n",
        "    x_seq = [np.array([0.5, -1.0]),\n",
        "             np.array([1.0, 0.0]),\n",
        "             np.array([-0.5, 0.5])]\n",
        "    h_prev = np.zeros(2)\n",
        "    W_xh = np.array([[0.6, -0.2],\n",
        "                     [0.1,  0.5]])\n",
        "    W_hh = np.array([[0.3, 0.4],\n",
        "                     [-0.2, 0.2]])\n",
        "    b_h = np.array([0.0,0.1])\n",
        "    h_list = []\n",
        "\n",
        "    # Your code here\n",
        "    for x in x_seq:\n",
        "        h_t = np.tanh(np.dot(W_xh, x) + np.dot(W_hh, h_prev) + b_h) #dot might not be the best option.\n",
        "        h_list.append(h_t)\n",
        "        h_prev = h_t\n",
        "    return h_list\n",
        "\n",
        "hidden_states = task3_manual_forward_pass()\n",
        "print(\"Hidden states:\", hidden_states)"
      ]
    },
    {
      "cell_type": "code",
      "source": [],
      "metadata": {
        "id": "qIGHfuyPfVRx"
      },
      "execution_count": null,
      "outputs": []
    },
    {
      "cell_type": "markdown",
      "metadata": {
        "id": "7ORsqt1mMkvC"
      },
      "source": [
        "------------------------------<br>\n",
        "Task 4: NumPy RNN Cell Implementation <br>\n",
        "------------------------------"
      ]
    },
    {
      "cell_type": "code",
      "execution_count": null,
      "metadata": {
        "id": "lSsfHVNCMkvD"
      },
      "outputs": [],
      "source": [
        "def task4_numpy_rnn_cell():\n",
        "    \"\"\"\n",
        "    Implement a simple Many-to-One RNN in NumPy.\n",
        "    Use rnn_forward to compute h_T, then compute a readout: y = W_hy h_T + b_y\n",
        "    Predict class = argmax(y)\n",
        "    \"\"\"\n",
        "\n",
        "    # Toy dataset\n",
        "    toy_sequences = [\n",
        "        [np.array([1.0,0.5]), np.array([0.2,0.1]), np.array([0.3,-0.1])],\n",
        "        [np.array([-0.5,-0.4]), np.array([0.1,-0.2]), np.array([-0.3,-0.1])],\n",
        "        [np.array([0.8,0.2]), np.array([0.5,0.4]), np.array([0.1,0.2])],\n",
        "        [np.array([-0.6,-0.2]), np.array([-0.4,-0.3]), np.array([0.0,-0.1])]\n",
        "    ]\n",
        "    labels = np.array([1,0,1,0])\n",
        "\n",
        "    # Parameters (randomly initialized for demonstration)\n",
        "    input_size = 2\n",
        "    hidden_size = 3\n",
        "    num_classes = 2\n",
        "    W_xh = np.random.randn(hidden_size, input_size) * 0.01\n",
        "    W_hh = np.random.randn(hidden_size, hidden_size) * 0.01 #to avoid large numbers before feeding to Tanh\n",
        "    b_h = np.zeros((hidden_size, 1))\n",
        "    W_hy = np.random.randn(num_classes, hidden_size) * 0.01\n",
        "    b_y = np.zeros((num_classes, 1))\n",
        "\n",
        "    def rnn_forward(sequence, h_prev):\n",
        "        h = h_prev\n",
        "        for x in sequence:\n",
        "            # Reshape x to be a column vector\n",
        "            x = x.reshape(-1, 1)\n",
        "            h = np.tanh(np.dot(W_xh, x) + np.dot(W_hh, h) + b_h)\n",
        "        return h\n",
        "\n",
        "    predictions = []\n",
        "    for sequence in toy_sequences:\n",
        "        h_T = rnn_forward(sequence, np.zeros((hidden_size, 1))) # Initial hidden state is zero\n",
        "        # Compute readout\n",
        "        y = np.dot(W_hy, h_T) + b_y\n",
        "        # Predict class\n",
        "        predicted_class = np.argmax(y)\n",
        "        predictions.append(predicted_class)\n",
        "\n",
        "    return predictions, labels\n",
        "\n",
        "predictions, actual_labels = task4_numpy_rnn_cell()\n",
        "print(\"Predictions:\", predictions)\n",
        "print(\"Actual Labels:\", actual_labels)"
      ]
    },
    {
      "cell_type": "code",
      "source": [],
      "metadata": {
        "id": "ZJ5pCTNTkCem"
      },
      "execution_count": null,
      "outputs": []
    },
    {
      "cell_type": "code",
      "source": [
        "\"\"\"\n",
        "Goal:\n",
        "- Introduction to tensors in PyTorch\n",
        "- Build a simple RNN-based classifier\n",
        "\n",
        "Dataset:\n",
        "- We will classify short sequences of numbers as \"increasing\" or \"decreasing\"\n",
        "  Example:\n",
        "    [1, 2, 3, 4] → Label: 1 (increasing)\n",
        "    [5, 3, 1, 0] → Label: 0 (decreasing)\n",
        "\n",
        "----------------------------------------------------\n",
        "\"\"\"\n",
        "\n",
        "import torch\n",
        "import torch.nn as nn\n",
        "import torch.optim as optim\n",
        "\n",
        "# ====================================================\n",
        "# STEP 1: Create a Tiny Synthetic Dataset\n",
        "# ====================================================\n",
        "\n",
        "def generate_data(num_samples=100, seq_len=4):\n",
        "    X = []\n",
        "    y = []\n",
        "    for _ in range(num_samples):\n",
        "        if torch.rand(1).item() > 0.5:\n",
        "            seq = torch.sort(torch.rand(seq_len))[0]   # Increasing\n",
        "            label = 1\n",
        "        else:\n",
        "            seq = torch.sort(torch.rand(seq_len), descending=True)[0]  # Decreasing\n",
        "            label = 0\n",
        "        X.append(seq.unsqueeze(-1))  # Shape: (seq_len, input_size=1)\n",
        "        y.append(label)\n",
        "    return torch.stack(X), torch.tensor(y)\n",
        "\n",
        "X, y = generate_data()\n",
        "# X shape → (batch_size=100, seq_len=4, input_size=1)\n",
        "# y shape → (batch_size=100)\n",
        "\n",
        "# ====================================================\n",
        "# STEP 2: Define a Simple RNN Classifier\n",
        "# ====================================================\n",
        "\n",
        "class RNNClassifier(nn.Module):\n",
        "    def __init__(self, input_size=1, hidden_size=8, num_classes=2):\n",
        "        super().__init__()\n",
        "\n",
        "\n",
        "    def forward(self, x):\n",
        "\n",
        "\n",
        "model = RNNClassifier()\n",
        "print(model)\n",
        "\n",
        "# ====================================================\n",
        "# STEP 3: Train the Model\n",
        "# ====================================================\n",
        "\n",
        "criterion = nn.CrossEntropyLoss()\n",
        "optimizer = optim.Adam(model.parameters(), lr=0.01)\n",
        "\n",
        "\n",
        "# ====================================================\n",
        "# STEP 4: Test the Model on New Data\n",
        "# ====================================================\n",
        "\n",
        "test_X, test_y = generate_data(num_samples=10)\n",
        "\n",
        "print(\"\\nPredictions vs Actual:\")"
      ],
      "metadata": {
        "id": "Nxyi_7bfR1vi"
      },
      "execution_count": null,
      "outputs": []
    }
  ],
  "metadata": {
    "kernelspec": {
      "display_name": "Python 3",
      "language": "python",
      "name": "python3"
    },
    "language_info": {
      "codemirror_mode": {
        "name": "ipython",
        "version": 3
      },
      "file_extension": ".py",
      "mimetype": "text/x-python",
      "name": "python",
      "nbconvert_exporter": "python",
      "pygments_lexer": "ipython3",
      "version": "3.6.4"
    },
    "colab": {
      "provenance": [],
      "include_colab_link": true
    }
  },
  "nbformat": 4,
  "nbformat_minor": 0
}